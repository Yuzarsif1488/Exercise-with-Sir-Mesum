{
 "cells": [
  {
   "cell_type": "code",
   "execution_count": 12,
   "metadata": {},
   "outputs": [
    {
     "name": "stdout",
     "output_type": "stream",
     "text": [
      "ali 33 1985_10_1 \n",
      " zara 25 1995_06_02 \n",
      " jen 30 1990_07_15 \n",
      " john 37 1984_08_05 \n",
      " ray 40 1982_11_07\n"
     ]
    }
   ],
   "source": [
    "names = [\"ali\", \"zara\", \"jen\", \"john\",\"ray\"]\n",
    "age = ['33','25','30','37','40']\n",
    "dob = ['1985_10_1' ,'1995_06_02', '1990_07_15', '1984_08_05', '1982_11_07']\n",
    "print(names[0], age[0], dob[0], '\\n',names[1], age[1], dob[1], '\\n',names[2], age[2], dob[2], '\\n',names[3], age[3], dob[3], '\\n', names[4], age[4], dob[4] )"
   ]
  }
 ],
 "metadata": {
  "kernelspec": {
   "display_name": "Python 3.10.8 64-bit (microsoft store)",
   "language": "python",
   "name": "python3"
  },
  "language_info": {
   "codemirror_mode": {
    "name": "ipython",
    "version": 3
   },
   "file_extension": ".py",
   "mimetype": "text/x-python",
   "name": "python",
   "nbconvert_exporter": "python",
   "pygments_lexer": "ipython3",
   "version": "3.10.8"
  },
  "orig_nbformat": 4,
  "vscode": {
   "interpreter": {
    "hash": "d3766e252733745cdc1fa26193bbb7651fb62ee33375a15ba8fffc52e7e509c4"
   }
  }
 },
 "nbformat": 4,
 "nbformat_minor": 2
}
