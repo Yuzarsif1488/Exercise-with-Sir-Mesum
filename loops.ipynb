{
 "cells": [
  {
   "cell_type": "code",
   "execution_count": 8,
   "metadata": {},
   "outputs": [
    {
     "name": "stdout",
     "output_type": "stream",
     "text": [
      "5\n",
      "17\n",
      "33\n",
      "51\n",
      "198\n",
      "209\n"
     ]
    }
   ],
   "source": [
    "x = [5,12,16,18,147,11]\n",
    "sum  = 0\n",
    "for num in x:\n",
    "    sum += num\n",
    "    print(sum)"
   ]
  },
  {
   "cell_type": "code",
   "execution_count": 9,
   "metadata": {},
   "outputs": [
    {
     "name": "stdout",
     "output_type": "stream",
     "text": [
      "767\n"
     ]
    }
   ],
   "source": [
    "x = [14,5,16,8,6,66,42,569,41]\n",
    "sum=0\n",
    "for num in x:\n",
    "    sum +=num\n",
    "print(sum)"
   ]
  },
  {
   "cell_type": "code",
   "execution_count": 29,
   "metadata": {},
   "outputs": [
    {
     "name": "stdout",
     "output_type": "stream",
     "text": [
      "list of odd numbers:  [25, 15, 11, 13, 59]\n",
      "list of even numbers:  [54, 78, 36, 42, 68, 74, 18]\n"
     ]
    }
   ],
   "source": [
    "# separate even and odd numbers\n",
    "x = [54,78,25,36,42,68,15,74,11,18,13,59]\n",
    "odd = []\n",
    "even = []\n",
    "\n",
    "for i in x:\n",
    "    if(i%2==0):\n",
    "        even.append(i)\n",
    "    else:\n",
    "        odd.append(i)\n",
    "print(\"list of odd numbers: \", odd)\n",
    "print(\"list of even numbers: \", even)\n"
   ]
  }
 ],
 "metadata": {
  "kernelspec": {
   "display_name": "Python 3.10.8 64-bit (microsoft store)",
   "language": "python",
   "name": "python3"
  },
  "language_info": {
   "codemirror_mode": {
    "name": "ipython",
    "version": 3
   },
   "file_extension": ".py",
   "mimetype": "text/x-python",
   "name": "python",
   "nbconvert_exporter": "python",
   "pygments_lexer": "ipython3",
   "version": "3.10.8"
  },
  "orig_nbformat": 4,
  "vscode": {
   "interpreter": {
    "hash": "d3766e252733745cdc1fa26193bbb7651fb62ee33375a15ba8fffc52e7e509c4"
   }
  }
 },
 "nbformat": 4,
 "nbformat_minor": 2
}
