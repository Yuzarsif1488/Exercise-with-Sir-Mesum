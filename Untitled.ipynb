{
 "cells": [
  {
   "cell_type": "code",
   "execution_count": null,
   "id": "b3fe0c5e",
   "metadata": {},
   "outputs": [],
   "source": [
    "can_per_pack= 6\n",
    "pack_price = float( input( \"What is price of 6 pack= \"))\n",
    "can_volume = float( input (\"What is volume of each can(in ml)= \"))"
   ]
  },
  {
   "cell_type": "code",
   "execution_count": null,
   "id": "7be9ee3e",
   "metadata": {},
   "outputs": [],
   "source": [
    "pack_volume_in_ml = can_per_pack * can_volume\n",
    "pack_volume_in_ml"
   ]
  },
  {
   "cell_type": "code",
   "execution_count": null,
   "id": "3989045d",
   "metadata": {},
   "outputs": [],
   "source": [
    "price_per_ml =   pack_price/ pack_volume_in_ml\n",
    "price_per_ml"
   ]
  },
  {
   "cell_type": "code",
   "execution_count": null,
   "id": "4bbd0871",
   "metadata": {},
   "outputs": [],
   "source": [
    "price_per_pack = price_per_ml*can_volume\n",
    "price_per_pack"
   ]
  },
  {
   "cell_type": "code",
   "execution_count": null,
   "id": "2fe662a4",
   "metadata": {},
   "outputs": [],
   "source": [
    "price_per_pack = pack_price/can_per_pack\n",
    "price_per_pack"
   ]
  },
  {
   "cell_type": "code",
   "execution_count": null,
   "id": "63e45727",
   "metadata": {},
   "outputs": [],
   "source": [
    "price_per_liter= price_per_ml *1000"
   ]
  },
  {
   "cell_type": "code",
   "execution_count": 14,
   "id": "cf29a246",
   "metadata": {},
   "outputs": [
    {
     "name": "stdout",
     "output_type": "stream",
     "text": [
      "Enter some string: i am learing python and i am enjoying it\n",
      "Enter sub string to check for: am\n",
      "substring am exist in main string\n",
      "substring am occur 2 time\n",
      "substring am first occurance start at location : 2\n"
     ]
    }
   ],
   "source": [
    "first_input= input(str(\"Enter some string: \"))\n",
    "second_input=input(str(\"Enter sub string to check for: \"))\n",
    "\n",
    "if second_input in first_input:\n",
    "    print(\"substring\" + \" \"+str(second_input) + \" \"+\"exist in main string\")\n",
    "else:\n",
    "    print(\"substring\" + \" \"+str(second_input) + \" \"+\"doesn't exist in main string\")\n",
    "\n",
    "count=first_input.count(second_input)\n",
    "count\n",
    "print(\"substring\" +\" \"+ str(second_input)+ \" \"+ \"occur\" +\" \"+ str(count)+\" \" + \"time\")\n",
    "find=first_input.find(second_input)\n",
    "print(\"substring\" +\" \"+ str(second_input)+ \" \"+ \"first occurance start at location :\" ,  str(find))"
   ]
  },
  {
   "cell_type": "code",
   "execution_count": 12,
   "id": "8ff8d9b6",
   "metadata": {},
   "outputs": [
    {
     "data": {
      "text/plain": [
       "2"
      ]
     },
     "execution_count": 12,
     "metadata": {},
     "output_type": "execute_result"
    }
   ],
   "source": []
  }
 ],
 "metadata": {
  "kernelspec": {
   "display_name": "Python 3 (ipykernel)",
   "language": "python",
   "name": "python3"
  },
  "language_info": {
   "codemirror_mode": {
    "name": "ipython",
    "version": 3
   },
   "file_extension": ".py",
   "mimetype": "text/x-python",
   "name": "python",
   "nbconvert_exporter": "python",
   "pygments_lexer": "ipython3",
   "version": "3.9.12"
  }
 },
 "nbformat": 4,
 "nbformat_minor": 5
}
